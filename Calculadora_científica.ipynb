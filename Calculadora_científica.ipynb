{
  "nbformat": 4,
  "nbformat_minor": 0,
  "metadata": {
    "colab": {
      "provenance": [],
      "authorship_tag": "ABX9TyPsvbBtFkxTXtjfi8caKmaX",
      "include_colab_link": true
    },
    "kernelspec": {
      "name": "python3",
      "display_name": "Python 3"
    },
    "language_info": {
      "name": "python"
    }
  },
  "cells": [
    {
      "cell_type": "markdown",
      "metadata": {
        "id": "view-in-github",
        "colab_type": "text"
      },
      "source": [
        "<a href=\"https://colab.research.google.com/github/davidfeitoza/Calculadora_cient-fica/blob/main/Calculadora_cient%C3%ADfica.ipynb\" target=\"_parent\"><img src=\"https://colab.research.google.com/assets/colab-badge.svg\" alt=\"Open In Colab\"/></a>"
      ]
    },
    {
      "cell_type": "markdown",
      "source": [
        "### **Etapa 1**"
      ],
      "metadata": {
        "id": "SCHWJUeWUmbW"
      }
    },
    {
      "cell_type": "code",
      "execution_count": 1,
      "metadata": {
        "colab": {
          "base_uri": "https://localhost:8080/"
        },
        "id": "J-IEeWTxTxxj",
        "outputId": "42c22857-7b51-4209-82da-00534e498e28"
      },
      "outputs": [
        {
          "output_type": "stream",
          "name": "stdout",
          "text": [
            "Digite o primeiro número: 404\n",
            "Digite o segundo número: 300\n",
            "Digite o operador (+, -, *, /): /\n",
            "Resultado: 1.3466666666666667\n"
          ]
        }
      ],
      "source": [
        "num1 = float(input(\"Digite o primeiro número: \"))\n",
        "num2 = float(input(\"Digite o segundo número: \"))\n",
        "operador = input(\"Digite o operador (+, -, *, /): \")\n",
        "\n",
        "if operador == '+':\n",
        "    resultado = num1 + num2\n",
        "elif operador == '-':\n",
        "    resultado = num1 - num2\n",
        "elif operador == '*':\n",
        "    resultado = num1 * num2\n",
        "elif operador == '/':\n",
        "    if num2 != 0:\n",
        "        resultado = num1 / num2\n",
        "    else:\n",
        "        resultado = \"Erro: divisão por zero\"\n",
        "else:\n",
        "    resultado = \"Operador inválido.\"\n",
        "\n",
        "print(\"Resultado:\", resultado)"
      ]
    },
    {
      "cell_type": "markdown",
      "source": [
        "### **Etapa 2**"
      ],
      "metadata": {
        "id": "CRPwkwkWU-4m"
      }
    },
    {
      "cell_type": "code",
      "source": [
        "def somar(a, b):\n",
        "    return a + b\n",
        "\n",
        "def subtrair(a, b):\n",
        "    return a - b\n",
        "\n",
        "def multiplicar(a, b):\n",
        "    return a * b\n",
        "\n",
        "def dividir(a, b):\n",
        "    if b != 0:\n",
        "        return a / b\n",
        "    else:\n",
        "        return \"Erro: divisão por zero\"\n",
        "\n",
        "num1 = float(input(\"Digite o primeiro número: \"))\n",
        "num2 = float(input(\"Digite o segundo número: \"))\n",
        "operador = input(\"Digite o operador (+, -, *, /): \")\n",
        "\n",
        "if operador == '+':\n",
        "    resultado = somar(num1, num2)\n",
        "elif operador == '-':\n",
        "    resultado = subtrair(num1, num2)\n",
        "elif operador == '*':\n",
        "    resultado = multiplicar(num1, num2)\n",
        "elif operador == '/':\n",
        "    resultado = dividir(num1, num2)\n",
        "else:\n",
        "    resultado = \"Operador inválido.\"\n",
        "\n",
        "print(\"Resultado:\", resultado)"
      ],
      "metadata": {
        "colab": {
          "base_uri": "https://localhost:8080/"
        },
        "id": "fW43EQJjVBRm",
        "outputId": "20b2db84-cba5-46db-f3d9-ff7262b84ed0"
      },
      "execution_count": 2,
      "outputs": [
        {
          "output_type": "stream",
          "name": "stdout",
          "text": [
            "Digite o primeiro número: 22\n",
            "Digite o segundo número: 13\n",
            "Digite o operador (+, -, *, /): -\n",
            "Resultado: 9.0\n"
          ]
        }
      ]
    },
    {
      "cell_type": "markdown",
      "source": [
        "### **Etapa 3**"
      ],
      "metadata": {
        "id": "RxrHh1qnWQp2"
      }
    },
    {
      "cell_type": "code",
      "source": [
        "def adicionar(n1, n2):\n",
        "    # Retorna a soma de dois números\n",
        "    return n1 + n2\n",
        "\n",
        "def subtrair(n1, n2):\n",
        "    # Retorna a diferença de dois números\n",
        "    return n1 - n2\n",
        "\n",
        "def multiplicar(n1, n2):\n",
        "    # Retorna a o produto de dois números\n",
        "    return n1 * n2\n",
        "\n",
        "def dividir(n1, n2):\n",
        "    # Retorna o quociente da divisão de dois números\n",
        "    return n1 / n2\n",
        "\n",
        "\n",
        "\n",
        "try: # validação de possíveis erros no preenchimento\n",
        "    num1_str = input(\"Digite o primeiro número: \")\n",
        "    operador = input(\"Digite o operador (+, -, *, /): \")\n",
        "    num2_str = input(\"Digite o segundo número: \")\n",
        "\n",
        "    # Passo 1: verificar se os números inseridos são válidos.\n",
        "    # A validação é realizada verificando se os números são dígitos. Antes disso, realiza um tratamento para desconsiderar o ponto, caso exista.\n",
        "    if not num1_str.replace('.', '', 1).isdigit() or not num2_str.replace('.','', 1).isdigit():\n",
        "        raise ValueError(\"Por favor, insira números válidos.\")\n",
        "    else:\n",
        "        num1 = float(num1_str) # transformação da string para float para seguir com as demais operações\n",
        "        num2 = float(num2_str) # transformação da string para float para seguir com as demais operações\n",
        "\n",
        "    # Passo 2: verificar se o operador inserido é válido.\n",
        "    if operador in ['+', '-', '*', '/']: # insere os operadores válidos em uma lista. Ele valida se o operador está dentro da lista ou não\n",
        "\n",
        "        #Passo 4: chamar a função correspondente, dependendo do operador escolhido.\n",
        "        if operador  == '+':\n",
        "            resultado = adicionar(num1, num2)\n",
        "\n",
        "        elif operador  == '-':\n",
        "            resultado = subtrair(num1, num2)\n",
        "\n",
        "        elif operador  == '*':\n",
        "            resultado = multiplicar(num1, num2)\n",
        "\n",
        "        elif operador  == '/':\n",
        "            #Considerar a divisão por zero aqui\n",
        "\n",
        "            if num2 == 0:\n",
        "                raise ZeroDivisionError(\"Não é possível dividir por zero.\")\n",
        "            else:\n",
        "                resultado = dividir(num1, num2)\n",
        "\n",
        "        # Passo 5: Exibir o resultado.\n",
        "\n",
        "        print(f\"O resultado é: {resultado}\")\n",
        "\n",
        "    else:\n",
        "        # Passo 3: Exibir mensagens de erro apropriadas.\n",
        "        raise ValueError(\"Operador inválido. Use +, -, *, ou /.\")\n",
        "\n",
        "except ValueError as e: #Possíveis exceções durante a execução do bloco try\n",
        "    print(f\"Erro: {e}\")\n",
        "\n",
        "except ZeroDivisionError as e: # Possíveis exceções durante a execução do bloco try\n",
        "    print(f\"Erro: {e}\")\n",
        "\n",
        "except Exception as e: # Exceção genérica para englobar erros não mapeados\n",
        "    print(f\"Ocorreu um erro inesperado: {e}\")\n",
        "\n",
        "\n",
        "# Pontos de atenção\n",
        "\n",
        "# 1. Todos os erros identificados anteriormente agora são capturados dentro do bloco try except."
      ],
      "metadata": {
        "colab": {
          "base_uri": "https://localhost:8080/"
        },
        "id": "4bWUGdtjbOSO",
        "outputId": "ce15a91a-903f-471d-8ad8-86eec458ca18"
      },
      "execution_count": 5,
      "outputs": [
        {
          "output_type": "stream",
          "name": "stdout",
          "text": [
            "Digite o primeiro número: 1\n",
            "Digite o operador (+, -, *, /): +\n",
            "Digite o segundo número: 2\n",
            "O resultado é: 3.0\n"
          ]
        }
      ]
    },
    {
      "cell_type": "markdown",
      "source": [
        "### **Etapa 4**"
      ],
      "metadata": {
        "id": "M5VJ9n6lbXcO"
      }
    },
    {
      "cell_type": "code",
      "source": [
        "# Passo 1: Importar o módulo math\n",
        "\n",
        "import math\n",
        "\n",
        "def adicionar(n1, n2):\n",
        "    # Retorna a soma de dois números\n",
        "    return n1 + n2\n",
        "\n",
        "def subtrair(n1, n2):\n",
        "    # Retorna a diferença de dois números\n",
        "    return n1 - n2\n",
        "\n",
        "def multiplicar(n1, n2):\n",
        "    # Retorna a o produto de dois números\n",
        "    return n1 * n2\n",
        "\n",
        "def dividir(n1, n2):\n",
        "    # Retorna o quociente da divisão de dois números\n",
        "    return n1 / n2\n",
        "\n",
        "\n",
        "# Passo 2: Implementar funções para cálculos de potenciação, radiciação, trigonometria e logaritmos.\n",
        "\n",
        "def potencia(base, expoente):\n",
        "    # Retorna a base elevada ao expoente.\n",
        "    return math.pow(base, expoente)\n",
        "\n",
        "def radiciacao(numero, raiz):\n",
        "    # Retorna a raiz de um número.\n",
        "    if numero < 0 and raiz %2 == 0:\n",
        "        raise ValueError(\"Raiz par de número negativo não é real.\")\n",
        "    return math.pow(numero, 1/raiz)\n",
        "\n",
        "def seno(angulo_graus):\n",
        "    # Retorna o seno de um ângulo em graus.\n",
        "    return math.sin(math.radians(angulo_graus))\n",
        "\n",
        "def cosseno(angulo_graus):\n",
        "    # Retorna o cosseno de um ângulo em graus.\n",
        "    return math.cos(math.radians(angulo_graus))\n",
        "\n",
        "def tangente(angulo_graus):\n",
        "    # Retorna a tangente de um ângulo em graus\n",
        "    return math.tan(math.radians(angulo_graus))\n",
        "\n",
        "def logaritmo(numero, base):\n",
        "    # Retorna o logaritmo de um número na base especificada.\n",
        "    if numero <= 0 or base <= 0 or base == 1:\n",
        "        raise ValueError(\"Número deve ser positivo e base positiva diferente de 1.\")\n",
        "    return math.log(numero, base)\n",
        "\n",
        "try:\n",
        "    num1_str = input(\"Digite o primeiro número: \")\n",
        "    operador = input(\"Digite o operador (+, - , *, /, **, rad, sen, cos, tan, log): \")\n",
        "    num2_str = input(\"Digite o segundo número (ou raiz / expoente / base para outras operações): \")\n",
        "\n",
        "    # Passo 1: Verificar se os números inseridos são válidos.\n",
        "    if not num1_str.replace('.', '', 1).isdigit() or not num2_str.replace('.', '', 1).isdigit():\n",
        "        raise ValueError(\"Por favor, insira números válidos. \")\n",
        "\n",
        "    else:\n",
        "        num1 = float(num1_str)\n",
        "        num2 = float(num2_str)\n",
        "        resultado = None\n",
        "\n",
        "        # Passo 2: Verificar se o operador inserido é válido.\n",
        "        if operador in ['+', '-', '*', '/', '**', 'rad', 'sen', 'cos', 'tan', 'log']:\n",
        "            # Passo 3: Integrar as novas funções ao programa.\n",
        "\n",
        "            if operador == '+':\n",
        "                resultado = adicionar (num1, num2)\n",
        "\n",
        "            elif operador == '-':\n",
        "                resultado = subtrair (num1, num2)\n",
        "\n",
        "            elif operador == '*':\n",
        "                resultado = multiplicar (num1, num2)\n",
        "\n",
        "            elif operador == '/':\n",
        "                if num2 == 0:\n",
        "                    raise ZeroDivisionError (\"Não é possível dividir por zero.\")\n",
        "                else:\n",
        "                    resultado = dividir(num1, num2)\n",
        "\n",
        "            elif operador == '**':\n",
        "                resultado = potencia(num1, num2)\n",
        "\n",
        "            elif operador == 'rad':\n",
        "                resultado = radiciacao(num1, num2)\n",
        "\n",
        "            elif operador == 'sen':\n",
        "                resultado = seno(num1) # Assume que o primeiro número é o ângulo em graus\n",
        "\n",
        "            elif operador == 'cos':\n",
        "                resultado = cosseno(num1) #Assume que o primeiro número é o ângulo em graus\n",
        "\n",
        "            elif operador == 'tan':\n",
        "                resultado = tangente(num1) # Assume que o primeiro número é o ângulo em graus\n",
        "\n",
        "            elif operador == 'log':\n",
        "                resultado = logaritmo(num1, num2)\n",
        "\n",
        "            # Passo 5: Exibir o resultado.\n",
        "\n",
        "            print(f\"O resultado é: {resultado}\")\n",
        "\n",
        "        else:\n",
        "            # Passo 3: Exibir mensagens de erro apropriadas.\n",
        "            raise ValueError(\"Operador inválido. Use +, -, *, /, **, rad, sen, cos, tan, log.\")\n",
        "\n",
        "except ValueError as e:\n",
        "    print(f\"Erro: {e}\")\n",
        "\n",
        "except ZeroDivisionError as e:\n",
        "    print(f\"Erro: {e}\")\n",
        "\n",
        "except Exception as e:\n",
        "    print(f\"Ocorreu um erro inesperado: {e}\")"
      ],
      "metadata": {
        "colab": {
          "base_uri": "https://localhost:8080/"
        },
        "id": "Ww03vMX6bZde",
        "outputId": "a0644d3b-2784-40ba-db78-79f39d63f877"
      },
      "execution_count": 6,
      "outputs": [
        {
          "output_type": "stream",
          "name": "stdout",
          "text": [
            "Digite o primeiro número: 5\n",
            "Digite o operador (+, - , *, /, **, rad, sen, cos, tan, log): sen\n",
            "Digite o segundo número (ou raiz / expoente / base para outras operações): 10\n",
            "O resultado é: 0.08715574274765817\n"
          ]
        }
      ]
    }
  ]
}